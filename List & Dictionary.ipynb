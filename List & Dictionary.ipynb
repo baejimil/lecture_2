{
 "cells": [
  {
   "cell_type": "code",
   "execution_count": 3,
   "metadata": {},
   "outputs": [
    {
     "name": "stdout",
     "output_type": "stream",
     "text": [
      "<class 'list'>\n",
      "40\n"
     ]
    }
   ],
   "source": [
    "score_lists = [10,20,30,40,50,60]\n",
    "print(type(score_lists))\n",
    "\n",
    "print(score_lists[3])"
   ]
  },
  {
   "cell_type": "code",
   "execution_count": 7,
   "metadata": {},
   "outputs": [
    {
     "name": "stdout",
     "output_type": "stream",
     "text": [
      "[20, 30, 40, 50]\n"
     ]
    }
   ],
   "source": [
    "score_lists = [10,20,30,40,50,60,70,80,90]\n",
    "\n",
    "print(score_lists[1:5])"
   ]
  },
  {
   "cell_type": "code",
   "execution_count": 13,
   "metadata": {},
   "outputs": [
    {
     "name": "stdout",
     "output_type": "stream",
     "text": [
      "[50, 60, 70, 80]\n"
     ]
    }
   ],
   "source": [
    "score_lists = [10,20,30,40,50,60,70,80,90]\n",
    "\n",
    "print(score_lists[-5:-1])"
   ]
  },
  {
   "cell_type": "code",
   "execution_count": 25,
   "metadata": {},
   "outputs": [
    {
     "name": "stdout",
     "output_type": "stream",
     "text": [
      "[]\n",
      "[]\n",
      "[1, 2, 3]\n",
      "[1, 2, 3, 4, 5, 6, 7, 8, 9]\n",
      "['잘', '생', '긴']\n",
      "3\n"
     ]
    }
   ],
   "source": [
    "list1 = list()\n",
    "print(list1)\n",
    "\n",
    "list2 = []\n",
    "print(list2)\n",
    "\n",
    "list3 = list((1,2,3))\n",
    "print(list3)\n",
    "\n",
    "list4 = list(range(1,10))\n",
    "print(list4)\n",
    "\n",
    "list5 = list('잘생긴')\n",
    "print(list5)\n",
    "print(len(list5))"
   ]
  },
  {
   "cell_type": "code",
   "execution_count": 29,
   "metadata": {},
   "outputs": [
    {
     "name": "stdout",
     "output_type": "stream",
     "text": [
      "6\n",
      "b\n",
      "b\n"
     ]
    }
   ],
   "source": [
    "list6 = [1,['a','b','c'],3,4,5,6]\n",
    "print(len(list6))\n",
    "list7 = (list6[1])\n",
    "print(list7[1])\n",
    "\n",
    "print(list6[1][1])"
   ]
  },
  {
   "cell_type": "markdown",
   "metadata": {},
   "source": [
    "리스트 항목 추가(append)"
   ]
  },
  {
   "cell_type": "code",
   "execution_count": 33,
   "metadata": {},
   "outputs": [
    {
     "name": "stdout",
     "output_type": "stream",
     "text": [
      "['a', 'b', 'c', 'd', 'f', 'e']\n"
     ]
    }
   ],
   "source": [
    "a_list = ['a', 'b', 'c', 'd']\n",
    "\n",
    "a_list.append('f')\n",
    "a_list.append('e')\n",
    "print(a_list)"
   ]
  },
  {
   "cell_type": "markdown",
   "metadata": {},
   "source": [
    "##리스트 항목 삭제(del, remove, pop)"
   ]
  },
  {
   "cell_type": "code",
   "execution_count": 37,
   "metadata": {},
   "outputs": [
    {
     "name": "stdout",
     "output_type": "stream",
     "text": [
      "['a', 'b', 'c', 'd', 'f']\n"
     ]
    }
   ],
   "source": [
    "del_list= ['a', 'b', 'c', 'd','f','e']\n",
    "\n",
    "\n",
    "del del_list[-1]\n",
    "\n",
    "print(del_list)"
   ]
  },
  {
   "cell_type": "code",
   "execution_count": 41,
   "metadata": {},
   "outputs": [
    {
     "name": "stdout",
     "output_type": "stream",
     "text": [
      "['a', 'b', 'c', 'd']\n"
     ]
    }
   ],
   "source": [
    "del_list= ['a', 'b', 'c', 'd','f','e']\n",
    "\n",
    "del_list.remove(del_list[-1])\n",
    "del_list.remove('f')\n",
    "print(del_list)"
   ]
  },
  {
   "cell_type": "code",
   "execution_count": 45,
   "metadata": {},
   "outputs": [
    {
     "name": "stdout",
     "output_type": "stream",
     "text": [
      "길동\n",
      "강남\n"
     ]
    }
   ],
   "source": [
    "people_info = {'성': '홍', '이름':'길동','직장':'강남'}\n",
    "print(people_info['이름'])\n",
    "print(people_info['직장'])"
   ]
  },
  {
   "cell_type": "code",
   "execution_count": 52,
   "metadata": {},
   "outputs": [
    {
     "name": "stdout",
     "output_type": "stream",
     "text": [
      "dict_keys(['성', '이름', '직장'])\n",
      "dict_values(['홍', '길동', '강남'])\n"
     ]
    },
    {
     "data": {
      "text/plain": [
       "'이름'"
      ]
     },
     "execution_count": 52,
     "metadata": {},
     "output_type": "execute_result"
    }
   ],
   "source": [
    "people_info = {'성': '홍', '이름':'길동','직장':'강남'}\n",
    "print(people_info.keys())\n",
    "print(people_info.values())\n",
    "key_list = list(people_info.keys())[1]\n",
    "list(people_info.keys())[1]"
   ]
  },
  {
   "cell_type": "markdown",
   "metadata": {},
   "source": [
    "딕셔너리 삽입과 삭제"
   ]
  },
  {
   "cell_type": "code",
   "execution_count": 55,
   "metadata": {},
   "outputs": [
    {
     "name": "stdout",
     "output_type": "stream",
     "text": [
      "{'성': '홍', '이름': '길동', '직장': '강남', '취미': '테니스'}\n"
     ]
    }
   ],
   "source": [
    "people_info ={'성': '홍', '이름':'길동','직장':'강남'}\n",
    "people_info['취미'] = '테니스'\n",
    "\n",
    "\n",
    "print(people_info)"
   ]
  },
  {
   "cell_type": "code",
   "execution_count": 57,
   "metadata": {},
   "outputs": [
    {
     "name": "stdout",
     "output_type": "stream",
     "text": [
      "{'성': '홍', '이름': '태경', '직장': '강남'}\n"
     ]
    }
   ],
   "source": [
    "people_info ={'성': '홍', '이름':'길동','직장':'강남'}\n",
    "\n",
    "people_info['이름']='태경'\n",
    "\n",
    "print(people_info)"
   ]
  },
  {
   "cell_type": "code",
   "execution_count": 59,
   "metadata": {},
   "outputs": [
    {
     "name": "stdout",
     "output_type": "stream",
     "text": [
      "{'성': '홍', '이름': '길동', '직장': '강남'}\n"
     ]
    }
   ],
   "source": [
    "people_info ={'성': '홍', '이름':'길동','직장':'강남','취미':'테니스'}\n",
    "\n",
    "del people_info['취미']\n",
    "\n",
    "print(people_info)"
   ]
  },
  {
   "cell_type": "code",
   "execution_count": 61,
   "metadata": {},
   "outputs": [],
   "source": [
    "people_info ={'성': '홍', '이름':'길동','직장':'강남','취미':'테니스'}\n",
    "\n",
    "# KeyError: '주소' :: 없는 key 값을 호출하면 keyerror\n",
    "# del people_info['주소']"
   ]
  },
  {
   "cell_type": "code",
   "execution_count": 63,
   "metadata": {},
   "outputs": [
    {
     "data": {
      "text/plain": [
       "True"
      ]
     },
     "execution_count": 63,
     "metadata": {},
     "output_type": "execute_result"
    }
   ],
   "source": [
    "people_info ={'성': '홍', '이름':'길동','직장':'강남','취미':'테니스'}\n",
    "\n",
    "'성' in people_info"
   ]
  },
  {
   "cell_type": "code",
   "execution_count": 65,
   "metadata": {},
   "outputs": [
    {
     "data": {
      "text/plain": [
       "False"
      ]
     },
     "execution_count": 65,
     "metadata": {},
     "output_type": "execute_result"
    }
   ],
   "source": [
    "people_info ={'성': '홍', '이름':'길동','직장':'강남','취미':'테니스'}\n",
    "\n",
    "'홍' in people_info"
   ]
  },
  {
   "cell_type": "code",
   "execution_count": 67,
   "metadata": {},
   "outputs": [
    {
     "data": {
      "text/plain": [
       "True"
      ]
     },
     "execution_count": 67,
     "metadata": {},
     "output_type": "execute_result"
    }
   ],
   "source": [
    "people_info ={'성': '홍', '이름':'길동','직장':'강남','취미':'테니스'}\n",
    "\n",
    "'홍' in people_info['성']"
   ]
  },
  {
   "cell_type": "code",
   "execution_count": 69,
   "metadata": {},
   "outputs": [
    {
     "data": {
      "text/plain": [
       "False"
      ]
     },
     "execution_count": 69,
     "metadata": {},
     "output_type": "execute_result"
    }
   ],
   "source": [
    "people_info ={'성': '홍', '이름':'길동','직장':'강남','취미':'테니스'}\n",
    "\n",
    "'성' not in people_info"
   ]
  },
  {
   "cell_type": "code",
   "execution_count": 71,
   "metadata": {},
   "outputs": [
    {
     "data": {
      "text/plain": [
       "False"
      ]
     },
     "execution_count": 71,
     "metadata": {},
     "output_type": "execute_result"
    }
   ],
   "source": [
    "people_info_1 ={'성': '홍', '이름':'길동','직장':'강남','취미':'테니스'}\n",
    "people_info_2 ={'성': '배', '이름':'종현','직장':'강남','취미':'축구'}\n",
    "\n",
    "people_info_1 == people_info_2"
   ]
  },
  {
   "cell_type": "code",
   "execution_count": 73,
   "metadata": {},
   "outputs": [
    {
     "name": "stdout",
     "output_type": "stream",
     "text": [
      "[{'성': '홍', '이름': '길동', '직장': '강남', '취미': '테니스'}, {'성': '배', '이름': '길동', '직장': '강남', '취미': '테니스'}]\n"
     ]
    }
   ],
   "source": [
    "people_info_1 ={'성': '홍', '이름':'길동','직장':'강남','취미':'테니스'}\n",
    "people_info_2 ={'성': '배', '이름':'길동','직장':'강남','취미':'테니스'}\n",
    "\n",
    "people = []\n",
    "people.append(people_info_1)\n",
    "people.append(people_info_2)\n",
    "\n",
    "print(people)"
   ]
  },
  {
   "cell_type": "code",
   "execution_count": 75,
   "metadata": {},
   "outputs": [
    {
     "data": {
      "text/plain": [
       "{}"
      ]
     },
     "execution_count": 75,
     "metadata": {},
     "output_type": "execute_result"
    }
   ],
   "source": [
    "people_info_1 ={'성': '홍', '이름':'길동','직장':'강남','취미':'테니스'}\n",
    "\n",
    "people_info_1.clear()\n",
    "\n",
    "people_info_1"
   ]
  },
  {
   "cell_type": "markdown",
   "metadata": {},
   "source": [
    "딕셔너리 병합"
   ]
  },
  {
   "cell_type": "code",
   "execution_count": 79,
   "metadata": {},
   "outputs": [
    {
     "name": "stdout",
     "output_type": "stream",
     "text": [
      "{'성': '홍', '이름': '길동', '직장': '강남', '취미': '테니스', '주소': '서울시', '나이': '27'}\n"
     ]
    }
   ],
   "source": [
    "people_info_1 ={'성': '홍', '이름':'길동','직장':'강남','취미':'테니스'}\n",
    "people_info_2 ={'주소': '서울시', '나이':'27'}\n",
    "\n",
    "people_info_1.update(people_info_2)\n",
    "print(people_info_1)"
   ]
  },
  {
   "cell_type": "code",
   "execution_count": 77,
   "metadata": {},
   "outputs": [
    {
     "name": "stdout",
     "output_type": "stream",
     "text": [
      "{'성': '배', '이름': '길동', '직장': '강남', '취미': '테니스'}\n"
     ]
    }
   ],
   "source": [
    "people_info_1 ={'성': '홍', '이름':'길동','직장':'강남','취미':'테니스'}\n",
    "people_info_2 ={'성': '배', '이름':'길동','직장':'강남','취미':'테니스'}\n",
    "\n",
    "people_info_1.update(people_info_2)\n",
    "print(people_info_2)"
   ]
  }
 ],
 "metadata": {
  "kernelspec": {
   "display_name": "Python 3",
   "language": "python",
   "name": "python3"
  },
  "language_info": {
   "codemirror_mode": {
    "name": "ipython",
    "version": 3
   },
   "file_extension": ".py",
   "mimetype": "text/x-python",
   "name": "python",
   "nbconvert_exporter": "python",
   "pygments_lexer": "ipython3",
   "version": "3.8.3"
  }
 },
 "nbformat": 4,
 "nbformat_minor": 4
}
